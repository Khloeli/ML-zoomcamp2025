{
 "cells": [
  {
   "cell_type": "code",
   "execution_count": 1,
   "id": "8ba7f837-ca6e-4993-ad1d-a6b5b07be2a2",
   "metadata": {},
   "outputs": [],
   "source": [
    "import pandas as pd\n",
    "import numpy as np\n",
    "\n",
    "df = pd.read_csv(\"course_lead_scoring.csv\")"
   ]
  },
  {
   "cell_type": "markdown",
   "id": "6a7df8d9-1d84-4995-a74e-e07803b146ae",
   "metadata": {},
   "source": [
    "Data preparation <br>\n",
    "Check if the missing values are presented in the features.<br>\n",
    "If there are missing values:<br>\n",
    "For caterogiral features, replace them with 'NA'<br>\n",
    "For numerical features, replace with with 0.0<br>\n",
    "Split the data into 3 parts: train/validation/test with 60%/20%/20% distribution. Use train_test_split function for that with random_state=1"
   ]
  },
  {
   "cell_type": "code",
   "execution_count": 2,
   "id": "859a533f-a913-4b1b-b815-ddea7caa73e9",
   "metadata": {},
   "outputs": [
    {
     "data": {
      "text/plain": [
       "lead_source                 128\n",
       "industry                    134\n",
       "number_of_courses_viewed      0\n",
       "annual_income               181\n",
       "employment_status           100\n",
       "location                     63\n",
       "interaction_count             0\n",
       "lead_score                    0\n",
       "converted                     0\n",
       "dtype: int64"
      ]
     },
     "execution_count": 2,
     "metadata": {},
     "output_type": "execute_result"
    }
   ],
   "source": [
    "df.isna().sum()"
   ]
  },
  {
   "cell_type": "code",
   "execution_count": 3,
   "id": "e7f5808d-4377-472e-a18b-507f9deec899",
   "metadata": {},
   "outputs": [
    {
     "data": {
      "text/plain": [
       "lead_source                  object\n",
       "industry                     object\n",
       "number_of_courses_viewed      int64\n",
       "annual_income               float64\n",
       "employment_status            object\n",
       "location                     object\n",
       "interaction_count             int64\n",
       "lead_score                  float64\n",
       "converted                     int64\n",
       "dtype: object"
      ]
     },
     "execution_count": 3,
     "metadata": {},
     "output_type": "execute_result"
    }
   ],
   "source": [
    "df.dtypes"
   ]
  },
  {
   "cell_type": "code",
   "execution_count": 4,
   "id": "280128c3-0999-41eb-8e9e-ad5bab40a37c",
   "metadata": {},
   "outputs": [],
   "source": [
    "col_cat = list(df.dtypes[df.dtypes == 'object'].index)\n",
    "for c in col_cat:\n",
    "    df[c] = df[c].fillna('NA')\n",
    "\n",
    "num_cat = list(df.dtypes[df.dtypes != 'object'].index)\n",
    "for n in num_cat:\n",
    "    df[n] = df[n].fillna(0.0)"
   ]
  },
  {
   "cell_type": "code",
   "execution_count": 5,
   "id": "8ba30136-d915-4437-b603-39ac69ef9f6f",
   "metadata": {},
   "outputs": [],
   "source": [
    "from sklearn.model_selection import train_test_split\n",
    "\n",
    "df_full_train, df_test = train_test_split(df, test_size = 0.2, random_state=1)\n",
    "df_train, df_val = train_test_split(df_full_train, test_size = 0.25, random_state=1)"
   ]
  },
  {
   "cell_type": "code",
   "execution_count": 7,
   "id": "9d033ee5-5d71-4f6f-b4f7-e671f7fea75d",
   "metadata": {},
   "outputs": [
    {
     "data": {
      "text/html": [
       "<div>\n",
       "<style scoped>\n",
       "    .dataframe tbody tr th:only-of-type {\n",
       "        vertical-align: middle;\n",
       "    }\n",
       "\n",
       "    .dataframe tbody tr th {\n",
       "        vertical-align: top;\n",
       "    }\n",
       "\n",
       "    .dataframe thead th {\n",
       "        text-align: right;\n",
       "    }\n",
       "</style>\n",
       "<table border=\"1\" class=\"dataframe\">\n",
       "  <thead>\n",
       "    <tr style=\"text-align: right;\">\n",
       "      <th></th>\n",
       "      <th>lead_source</th>\n",
       "      <th>industry</th>\n",
       "      <th>number_of_courses_viewed</th>\n",
       "      <th>annual_income</th>\n",
       "      <th>employment_status</th>\n",
       "      <th>location</th>\n",
       "      <th>interaction_count</th>\n",
       "      <th>lead_score</th>\n",
       "      <th>converted</th>\n",
       "    </tr>\n",
       "  </thead>\n",
       "  <tbody>\n",
       "    <tr>\n",
       "      <th>0</th>\n",
       "      <td>paid_ads</td>\n",
       "      <td>NA</td>\n",
       "      <td>1</td>\n",
       "      <td>79450.0</td>\n",
       "      <td>unemployed</td>\n",
       "      <td>south_america</td>\n",
       "      <td>4</td>\n",
       "      <td>0.94</td>\n",
       "      <td>1</td>\n",
       "    </tr>\n",
       "    <tr>\n",
       "      <th>1</th>\n",
       "      <td>social_media</td>\n",
       "      <td>retail</td>\n",
       "      <td>1</td>\n",
       "      <td>46992.0</td>\n",
       "      <td>employed</td>\n",
       "      <td>south_america</td>\n",
       "      <td>1</td>\n",
       "      <td>0.80</td>\n",
       "      <td>0</td>\n",
       "    </tr>\n",
       "    <tr>\n",
       "      <th>2</th>\n",
       "      <td>events</td>\n",
       "      <td>healthcare</td>\n",
       "      <td>5</td>\n",
       "      <td>78796.0</td>\n",
       "      <td>unemployed</td>\n",
       "      <td>australia</td>\n",
       "      <td>3</td>\n",
       "      <td>0.69</td>\n",
       "      <td>1</td>\n",
       "    </tr>\n",
       "    <tr>\n",
       "      <th>3</th>\n",
       "      <td>paid_ads</td>\n",
       "      <td>retail</td>\n",
       "      <td>2</td>\n",
       "      <td>83843.0</td>\n",
       "      <td>NA</td>\n",
       "      <td>australia</td>\n",
       "      <td>1</td>\n",
       "      <td>0.87</td>\n",
       "      <td>0</td>\n",
       "    </tr>\n",
       "    <tr>\n",
       "      <th>4</th>\n",
       "      <td>referral</td>\n",
       "      <td>education</td>\n",
       "      <td>3</td>\n",
       "      <td>85012.0</td>\n",
       "      <td>self_employed</td>\n",
       "      <td>europe</td>\n",
       "      <td>3</td>\n",
       "      <td>0.62</td>\n",
       "      <td>1</td>\n",
       "    </tr>\n",
       "  </tbody>\n",
       "</table>\n",
       "</div>"
      ],
      "text/plain": [
       "    lead_source    industry  number_of_courses_viewed  annual_income  \\\n",
       "0      paid_ads          NA                         1        79450.0   \n",
       "1  social_media      retail                         1        46992.0   \n",
       "2        events  healthcare                         5        78796.0   \n",
       "3      paid_ads      retail                         2        83843.0   \n",
       "4      referral   education                         3        85012.0   \n",
       "\n",
       "  employment_status       location  interaction_count  lead_score  converted  \n",
       "0        unemployed  south_america                  4        0.94          1  \n",
       "1          employed  south_america                  1        0.80          0  \n",
       "2        unemployed      australia                  3        0.69          1  \n",
       "3                NA      australia                  1        0.87          0  \n",
       "4     self_employed         europe                  3        0.62          1  "
      ]
     },
     "execution_count": 7,
     "metadata": {},
     "output_type": "execute_result"
    }
   ],
   "source": [
    "df.head()"
   ]
  },
  {
   "cell_type": "code",
   "execution_count": 8,
   "id": "f71cb6d4-da2f-4ecd-b0ad-fb7eb9087906",
   "metadata": {},
   "outputs": [],
   "source": [
    "y_train = df_train.converted.values\n",
    "y_val = df_val.converted.values\n",
    "y_test = df_test.converted.values"
   ]
  },
  {
   "cell_type": "markdown",
   "id": "d67a889f-5f14-454d-968e-bd9d7dda82ca",
   "metadata": {},
   "source": [
    "## Question 1: ROC AUC feature importance\n",
    "ROC AUC could also be used to evaluate feature importance of numerical variables.\n",
    "\n",
    "For each numerical variable, use it as score (aka prediction) and compute the AUC with the y variable as ground truth.\n",
    "Use the training dataset for that\n",
    "If your AUC is < 0.5, invert this variable by putting \"-\" in front\n",
    "\n",
    "(e.g. -df_train['balance'])\n",
    "\n",
    "AUC can go below 0.5 if the variable is negatively correlated with the target variable. You can change the direction of the correlation by negating this variable - then negative correlation becomes positive.\n",
    "\n",
    "Which numerical variable (among the following 4) has the highest AUC?\n",
    "\n",
    "lead_score <br>\n",
    "number_of_courses_viewed <br>\n",
    "interaction_count <br>\n",
    "annual_income"
   ]
  },
  {
   "cell_type": "code",
   "execution_count": 9,
   "id": "ceb0e6f9-658a-4823-acd1-a45e7ace7080",
   "metadata": {},
   "outputs": [],
   "source": [
    "from sklearn.metrics import roc_auc_score"
   ]
  },
  {
   "cell_type": "code",
   "execution_count": 10,
   "id": "4e302c01-fd36-4eec-8d81-417d3005d0fe",
   "metadata": {},
   "outputs": [
    {
     "data": {
      "text/plain": [
       "0.6144993577250176"
      ]
     },
     "execution_count": 10,
     "metadata": {},
     "output_type": "execute_result"
    }
   ],
   "source": [
    "roc_auc_score(y_train, df_train['lead_score'])"
   ]
  },
  {
   "cell_type": "code",
   "execution_count": 11,
   "id": "bee6b4bc-ab09-46cd-b767-10ecb573cd80",
   "metadata": {},
   "outputs": [
    {
     "data": {
      "text/plain": [
       "0.7635680590007088"
      ]
     },
     "execution_count": 11,
     "metadata": {},
     "output_type": "execute_result"
    }
   ],
   "source": [
    "roc_auc_score(y_train, df_train['number_of_courses_viewed'])"
   ]
  },
  {
   "cell_type": "code",
   "execution_count": 12,
   "id": "835c4653-af17-40d1-94b3-63ae33c5c5be",
   "metadata": {},
   "outputs": [
    {
     "data": {
      "text/plain": [
       "0.738270176293409"
      ]
     },
     "execution_count": 12,
     "metadata": {},
     "output_type": "execute_result"
    }
   ],
   "source": [
    "roc_auc_score(y_train, df_train['interaction_count'])"
   ]
  },
  {
   "cell_type": "code",
   "execution_count": 13,
   "id": "d161c67e-1682-4b0d-b540-5d392f713ce8",
   "metadata": {},
   "outputs": [
    {
     "data": {
      "text/plain": [
       "0.5519578313253012"
      ]
     },
     "execution_count": 13,
     "metadata": {},
     "output_type": "execute_result"
    }
   ],
   "source": [
    "roc_auc_score(y_train, df_train['annual_income'])"
   ]
  },
  {
   "cell_type": "code",
   "execution_count": 72,
   "id": "a28023bb-ce50-41c1-b623-05ae25ee48fb",
   "metadata": {},
   "outputs": [],
   "source": [
    "# Ans: number_of_courses_viewed"
   ]
  },
  {
   "cell_type": "markdown",
   "id": "a5842da2-b467-4db3-bf06-f8bd7c3c61f7",
   "metadata": {},
   "source": [
    "## Question 2: Training the model\n",
    "Apply one-hot-encoding using DictVectorizer and train the logistic regression with these parameters:\n",
    "\n",
    "LogisticRegression(solver='liblinear', C=1.0, max_iter=1000)\n",
    "What's the AUC of this model on the validation dataset? (round to 3 digits)\n",
    "\n",
    "0.32 <br>\n",
    "0.52 <br>\n",
    "0.72 <br>\n",
    "0.92"
   ]
  },
  {
   "cell_type": "code",
   "execution_count": 56,
   "id": "f28d4aa7-f526-486c-9034-f4e7e8911503",
   "metadata": {},
   "outputs": [
    {
     "data": {
      "text/plain": [
       "0.8171316268814112"
      ]
     },
     "execution_count": 56,
     "metadata": {},
     "output_type": "execute_result"
    }
   ],
   "source": [
    "from sklearn.feature_extraction import DictVectorizer\n",
    "from sklearn.linear_model import LogisticRegression\n",
    "\n",
    "dv = DictVectorizer()\n",
    "\n",
    "train_dict = df_train.drop(columns=['converted']).to_dict(orient='records')\n",
    "X_train = dv.fit_transform(train_dict)\n",
    "\n",
    "model = LogisticRegression(solver='liblinear', C=1.0, max_iter=1000)\n",
    "model.fit(X_train, y_train)\n",
    "\n",
    "val_dict = df_val.drop(columns=['converted']).to_dict(orient='records')\n",
    "X_val = dv.transform(val_dict)\n",
    "\n",
    "y_pred = model.predict_proba(X_val)[:, 1]\n",
    "\n",
    "roc_auc_score(y_val, y_pred)"
   ]
  },
  {
   "cell_type": "code",
   "execution_count": 71,
   "id": "55bc5c71-b019-4ffd-a51c-8caf31ca06ab",
   "metadata": {},
   "outputs": [],
   "source": [
    "# Ans: 0.72"
   ]
  },
  {
   "cell_type": "markdown",
   "id": "10fd54e5-8bbb-40cd-aa2c-7ed2dc08c83c",
   "metadata": {},
   "source": [
    "## Question 3: Precision and Recall\n",
    "Now let's compute precision and recall for our model.\n",
    "\n",
    "Evaluate the model on all thresholds from 0.0 to 1.0 with step 0.01\n",
    "For each threshold, compute precision and recall\n",
    "Plot them\n",
    "At which threshold precision and recall curves intersect?\n",
    "\n",
    "0.145 <br>\n",
    "0.345 <br>\n",
    "0.545 <br>\n",
    "0.745"
   ]
  },
  {
   "cell_type": "code",
   "execution_count": 65,
   "id": "9c0f52b8-0f89-4977-9059-bf079363473c",
   "metadata": {},
   "outputs": [
    {
     "name": "stderr",
     "output_type": "stream",
     "text": [
      "/tmp/ipykernel_5024/1673940052.py:18: RuntimeWarning: invalid value encountered in scalar divide\n",
      "  p = tp / (tp + fp)\n"
     ]
    }
   ],
   "source": [
    "scores = []\n",
    "\n",
    "thresholds = np.linspace(0, 1, 101)\n",
    "\n",
    "for t in thresholds:\n",
    "    actual_positive = (y_val == 1)\n",
    "    actual_negative = (y_val == 0)\n",
    "    \n",
    "    predict_positive = (y_pred >= t)\n",
    "    predict_negative = (y_pred < t)\n",
    "\n",
    "    tp = (predict_positive & actual_positive).sum()\n",
    "    tn = (predict_negative & actual_negative).sum()\n",
    "\n",
    "    fp = (predict_positive & actual_negative).sum()\n",
    "    fn = (predict_negative & actual_positive).sum()\n",
    "\n",
    "    p = tp / (tp + fp)\n",
    "    r = tp / (tp + fn)\n",
    "    \n",
    "    scores.append((t, p, r))"
   ]
  },
  {
   "cell_type": "code",
   "execution_count": 66,
   "id": "2936167f-d381-43ea-b7e6-2c63d0804560",
   "metadata": {},
   "outputs": [],
   "source": [
    "columns = ['threshold','p','r']\n",
    "df_scores = pd.DataFrame(scores, columns=columns)"
   ]
  },
  {
   "cell_type": "code",
   "execution_count": 68,
   "id": "34d9bf59-b2b4-4fc3-b557-3574c4352d1c",
   "metadata": {},
   "outputs": [],
   "source": [
    "import matplotlib.pyplot as plt"
   ]
  },
  {
   "cell_type": "code",
   "execution_count": 69,
   "id": "dc191cdc-c11e-42ca-8bd4-02970d63ffc1",
   "metadata": {},
   "outputs": [
    {
     "data": {
      "text/plain": [
       "<matplotlib.legend.Legend at 0x7af85a42b5f0>"
      ]
     },
     "execution_count": 69,
     "metadata": {},
     "output_type": "execute_result"
    },
    {
     "data": {
      "image/png": "[encoded data removed]",
      "text/plain": [
       "<Figure size 640x480 with 1 Axes>"
      ]
     },
     "metadata": {},
     "output_type": "display_data"
    }
   ],
   "source": [
    "plt.plot(df_scores.threshold, df_scores['p'], label='p')\n",
    "plt.plot(df_scores.threshold, df_scores['r'], label='r')\n",
    "plt.legend()"
   ]
  },
  {
   "cell_type": "code",
   "execution_count": 70,
   "id": "df2f966a-07b5-4fb0-aedd-0bcf7a0c6b1d",
   "metadata": {},
   "outputs": [],
   "source": [
    "# Ans: 0.745"
   ]
  },
  {
   "cell_type": "markdown",
   "id": "7564cc61-f8c2-4a84-bb56-dcec96833721",
   "metadata": {},
   "source": [
    "## Question 4: F1 score\n",
    "Precision and recall are conflicting - when one grows, the other goes down. That's why they are often combined into the F1 score - a metrics that takes into account both\n",
    "\n",
    "Let's compute F1 for all thresholds from 0.0 to 1.0 with increment 0.01\n",
    "\n",
    "At which threshold F1 is maximal?\n",
    "\n",
    "0.14 <br> \n",
    "0.34 <br>\n",
    "0.54 <br>\n",
    "0.74"
   ]
  },
  {
   "cell_type": "code",
   "execution_count": 74,
   "id": "00874141-add7-4664-bbf1-59f81cc1b2de",
   "metadata": {},
   "outputs": [
    {
     "name": "stderr",
     "output_type": "stream",
     "text": [
      "/tmp/ipykernel_5024/3825068341.py:18: RuntimeWarning: invalid value encountered in scalar divide\n",
      "  p = tp / (tp + fp)\n"
     ]
    }
   ],
   "source": [
    "scores = []\n",
    "\n",
    "thresholds = np.linspace(0, 1, 101)\n",
    "\n",
    "for t in thresholds:\n",
    "    actual_positive = (y_val == 1)\n",
    "    actual_negative = (y_val == 0)\n",
    "    \n",
    "    predict_positive = (y_pred >= t)\n",
    "    predict_negative = (y_pred < t)\n",
    "\n",
    "    tp = (predict_positive & actual_positive).sum()\n",
    "    tn = (predict_negative & actual_negative).sum()\n",
    "\n",
    "    fp = (predict_positive & actual_negative).sum()\n",
    "    fn = (predict_negative & actual_positive).sum()\n",
    "\n",
    "    p = tp / (tp + fp)\n",
    "    r = tp / (tp + fn)\n",
    "    \n",
    "    F1 = 2 * ((p * r )/ (p + r))\n",
    "    \n",
    "    scores.append((t, F1))"
   ]
  },
  {
   "cell_type": "code",
   "execution_count": 75,
   "id": "1a516da3-41b8-4f58-97fd-a95b759e5e50",
   "metadata": {},
   "outputs": [],
   "source": [
    "columns = ['threshold','F1']\n",
    "df_f1_scores = pd.DataFrame(scores, columns=columns)"
   ]
  },
  {
   "cell_type": "code",
   "execution_count": 79,
   "id": "216d25e2-766f-45d1-bcfc-697f3157950e",
   "metadata": {},
   "outputs": [
    {
     "data": {
      "text/plain": [
       "57    0.57\n",
       "Name: threshold, dtype: float64"
      ]
     },
     "execution_count": 79,
     "metadata": {},
     "output_type": "execute_result"
    }
   ],
   "source": [
    "df_f1_scores[df_f1_scores['F1']==df_f1_scores['F1'].max()]['threshold']"
   ]
  },
  {
   "cell_type": "code",
   "execution_count": 76,
   "id": "652a4dc5-a17f-4db3-a229-50fc7ee9b09e",
   "metadata": {},
   "outputs": [
    {
     "data": {
      "text/plain": [
       "<matplotlib.legend.Legend at 0x7af85a3f0d70>"
      ]
     },
     "execution_count": 76,
     "metadata": {},
     "output_type": "execute_result"
    },
    {
     "data": {
      "image/png": "[encoded data removed]",
      "text/plain": [
       "<Figure size 640x480 with 1 Axes>"
      ]
     },
     "metadata": {},
     "output_type": "display_data"
    }
   ],
   "source": [
    "plt.plot(df_scores.threshold, df_f1_scores['F1'], label='F1')\n",
    "plt.legend()"
   ]
  },
  {
   "cell_type": "code",
   "execution_count": 80,
   "id": "b080ca80-4f19-4ae1-b2cb-7190cd226d42",
   "metadata": {},
   "outputs": [],
   "source": [
    "# Ans: 0.54"
   ]
  },
  {
   "cell_type": "markdown",
   "id": "28e0374d-2649-4e35-af2d-b17d315d88c3",
   "metadata": {},
   "source": [
    "## Question 5: 5-Fold CV\n",
    "Use the KFold class from Scikit-Learn to evaluate our model on 5 different folds:\n",
    "\n",
    "KFold(n_splits=5, shuffle=True, random_state=1)\n",
    "Iterate over different folds of df_full_train\n",
    "Split the data into train and validation\n",
    "Train the model on train with these parameters: LogisticRegression(solver='liblinear', C=1.0, max_iter=1000)\n",
    "Use AUC to evaluate the model on validation\n",
    "How large is standard deviation of the scores across different folds?\n",
    "\n",
    "0.0001 <br>\n",
    "0.006 <br>\n",
    "0.06 <br>\n",
    "0.36 <br>"
   ]
  },
  {
   "cell_type": "code",
   "execution_count": 81,
   "id": "b36de957-8dd5-4af9-8632-fdb13793b65e",
   "metadata": {},
   "outputs": [
    {
     "name": "stdout",
     "output_type": "stream",
     "text": [
      "0.036\n"
     ]
    }
   ],
   "source": [
    "from sklearn.model_selection import KFold\n",
    "\n",
    "\n",
    "kf = KFold(n_splits=5, shuffle=True, random_state=1)\n",
    "scores = []\n",
    "\n",
    "for train_idx, val_idx in kf.split(df_full_train):\n",
    "    df_train = df_full_train.iloc[train_idx]\n",
    "    df_val   = df_full_train.iloc[val_idx]\n",
    "\n",
    "    y_train = df_train['converted'].values\n",
    "    y_val   = df_val['converted'].values\n",
    "\n",
    "    dv = DictVectorizer()\n",
    "    X_train = dv.fit_transform(df_train.drop(columns=['converted']).to_dict('records'))\n",
    "    X_val   = dv.transform(df_val.drop(columns=['converted']).to_dict('records'))\n",
    "\n",
    "    model = LogisticRegression(solver='liblinear', C=1.0, max_iter=1000)\n",
    "    model.fit(X_train, y_train)\n",
    "\n",
    "    pos = list(model.classes_).index(1) if 1 in model.classes_ else 1\n",
    "    y_pred = model.predict_proba(X_val)[:, pos]\n",
    "    scores.append(roc_auc_score(y_val, y_pred))\n",
    "\n",
    "std = np.std(scores)\n",
    "print(round(std, 3))\n"
   ]
  },
  {
   "cell_type": "code",
   "execution_count": null,
   "id": "d989e35b-3502-4c8e-885e-150f86ac587a",
   "metadata": {},
   "outputs": [],
   "source": [
    "# Ans: 0.036"
   ]
  },
  {
   "cell_type": "markdown",
   "id": "e7303236-c542-493c-b516-d1a53d968ec4",
   "metadata": {},
   "source": [
    "## Question 6: Hyperparameter Tuning\n",
    "Now let's use 5-Fold cross-validation to find the best parameter C\n",
    "\n",
    "Iterate over the following C values: [0.000001, 0.001, 1]\n",
    "Initialize KFold with the same parameters as previously\n",
    "Use these parameters for the model: LogisticRegression(solver='liblinear', C=C, max_iter=1000)\n",
    "Compute the mean score as well as the std (round the mean and std to 3 decimal digits)\n",
    "Which C leads to the best mean score?\n",
    "\n",
    "0.000001 <br>\n",
    "0.001 <br>\n",
    "1 <br>\n",
    "If you have ties, select the score with the lowest std. If you still have ties, select the smallest C."
   ]
  },
  {
   "cell_type": "code",
   "execution_count": 82,
   "id": "4ceddb4f-0a8d-4772-8318-fadc4fb07689",
   "metadata": {},
   "outputs": [
    {
     "name": "stdout",
     "output_type": "stream",
     "text": [
      "C=1e-06: mean=0.560, std=0.024\n",
      "C=0.001: mean=0.867, std=0.029\n",
      "C=1: mean=0.822, std=0.036\n"
     ]
    }
   ],
   "source": [
    "C_values = [0.000001, 0.001, 1]\n",
    "kf = KFold(n_splits=5, shuffle=True, random_state=1)\n",
    "\n",
    "for C in C_values:\n",
    "    scores = []\n",
    "    for train_idx, val_idx in kf.split(df_full_train):\n",
    "        df_train = df_full_train.iloc[train_idx]\n",
    "        df_val   = df_full_train.iloc[val_idx]\n",
    "\n",
    "        y_train = df_train['converted'].values\n",
    "        y_val   = df_val['converted'].values\n",
    "\n",
    "        dv = DictVectorizer()\n",
    "        X_train = dv.fit_transform(df_train.drop(columns=['converted']).to_dict('records'))\n",
    "        X_val   = dv.transform(df_val.drop(columns=['converted']).to_dict('records'))\n",
    "\n",
    "        model = LogisticRegression(solver='liblinear', C=C, max_iter=1000)\n",
    "        model.fit(X_train, y_train)\n",
    "\n",
    "        pos = list(model.classes_).index(1)\n",
    "        y_pred = model.predict_proba(X_val)[:, pos]\n",
    "        auc = roc_auc_score(y_val, y_pred)\n",
    "        scores.append(auc)\n",
    "\n",
    "    print(f\"C={C}: mean={np.mean(scores):.3f}, std={np.std(scores):.3f}\")\n"
   ]
  },
  {
   "cell_type": "code",
   "execution_count": 83,
   "id": "fa137a0f-b8f4-4bd3-b60a-4dd09ec5a9ee",
   "metadata": {},
   "outputs": [],
   "source": [
    "# best mean score is the one with the highest mean. which is 0.001 with a mean of 0.867"
   ]
  }
 ],
 "metadata": {
  "kernelspec": {
   "display_name": "Python 3 (ipykernel)",
   "language": "python",
   "name": "python3"
  },
  "language_info": {
   "codemirror_mode": {
    "name": "ipython",
    "version": 3
   },
   "file_extension": ".py",
   "mimetype": "text/x-python",
   "name": "python",
   "nbconvert_exporter": "python",
   "pygments_lexer": "ipython3",
   "version": "3.12.1"
  }
 },
 "nbformat": 4,
 "nbformat_minor": 5
}
